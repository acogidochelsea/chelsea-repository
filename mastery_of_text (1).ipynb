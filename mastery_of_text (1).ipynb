{
 "cells": [
  {
   "cell_type": "code",
   "execution_count": 21,
   "id": "1b4a49e5-371a-4b6e-824a-e0079bef86d0",
   "metadata": {},
   "outputs": [
    {
     "name": "stdout",
     "output_type": "stream",
     "text": [
      "Q1 - Total number of lines: 99968\n",
      "Q2 - Total number of words: 795227\n",
      "Q3 - Number of times 'apostle' appears (case-insensitive): 47\n",
      "Q4 - Most common word (case-insensitive): the → 64309 occurrences\n"
     ]
    }
   ],
   "source": [
    "import urllib.request\n",
    "import re\n",
    "from collections import Counter\n",
    "\n",
    "source_url = \"https://www.gutenberg.org/cache/epub/10/pg10.txt\"\n",
    "data = urllib.request.urlopen(source_url)\n",
    "pg10 = data.read().decode(\"utf-8\")\n",
    "\n",
    "# Q1\n",
    "lines_total = len(pg10.splitlines())\n",
    "\n",
    "# Q2\n",
    "word_list = re.findall(r\"[A-Za-z]+\", pg10)\n",
    "total_words = len(word_list)\n",
    "\n",
    "# Q3\n",
    "apostle_mentions = sum(1 for w in word_list if w.lower() == \"apostle\")\n",
    "\n",
    "# Q4\n",
    "normalized_words = [w.lower() for w in word_list]\n",
    "frequency = Counter(normalized_words)\n",
    "top_word, top_count = frequency.most_common(1)[0]\n",
    "\n",
    "print(\"Q1 - Total number of lines:\", lines_total)\n",
    "print(\"Q2 - Total number of words:\", total_words)\n",
    "print(\"Q3 - Number of times 'apostle' appears (case-insensitive):\", apostle_mentions)\n",
    "print(\"Q4 - Most common word (case-insensitive):\", top_word, \"→\", top_count, \"occurrences\")\n"
   ]
  },
  {
   "cell_type": "code",
   "execution_count": null,
   "id": "42f9b3d3-98cd-459a-9695-88904f63560a",
   "metadata": {},
   "outputs": [],
   "source": []
  }
 ],
 "metadata": {
  "kernelspec": {
   "display_name": "Python [conda env:base] *",
   "language": "python",
   "name": "conda-base-py"
  },
  "language_info": {
   "codemirror_mode": {
    "name": "ipython",
    "version": 3
   },
   "file_extension": ".py",
   "mimetype": "text/x-python",
   "name": "python",
   "nbconvert_exporter": "python",
   "pygments_lexer": "ipython3",
   "version": "3.12.7"
  }
 },
 "nbformat": 4,
 "nbformat_minor": 5
}
