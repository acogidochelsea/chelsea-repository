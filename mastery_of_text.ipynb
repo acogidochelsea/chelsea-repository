{
 "cells": [
  {
   "cell_type": "code",
   "execution_count": 19,
   "id": "1b4a49e5-371a-4b6e-824a-e0079bef86d0",
   "metadata": {},
   "outputs": [
    {
     "name": "stdout",
     "output_type": "stream",
     "text": [
      "Total lines in text: 99968\n",
      "Total words in text: 795227\n",
      "Mentions of 'apostle': 47\n",
      "Most used word: the\n",
      "Occurrences of most used word: 64309\n"
     ]
    }
   ],
   "source": [
    "import urllib.request\n",
    "import re\n",
    "from collections import Counter\n",
    "\n",
    "source_url = \"https://www.gutenberg.org/cache/epub/10/pg10.txt\"\n",
    "data = urllib.request.urlopen(source_url)\n",
    "pg10 = data.read().decode(\"utf-8\")\n",
    "\n",
    "lines_total = len(pg10.splitlines())\n",
    "\n",
    "word_list = re.findall(r\"[A-Za-z]+\", pg10)\n",
    "total_words = len(word_list)\n",
    "\n",
    "apostle_mentions = sum(1 for w in word_list if w.lower() == \"apostle\")\n",
    "\n",
    "normalized_words = [w.lower() for w in word_list]\n",
    "frequency = Counter(normalized_words)\n",
    "top_word, top_count = frequency.most_common(1)[0]\n",
    "\n",
    "print(\"Total lines in text:\", lines_total)\n",
    "print(\"Total words in text:\", total_words)\n",
    "print(\"Mentions of 'apostle':\", apostle_mentions)\n",
    "print(\"Most used word:\", top_word)\n",
    "print(\"Occurrences of most used word:\", top_count)\n",
    "\n"
   ]
  },
  {
   "cell_type": "code",
   "execution_count": null,
   "id": "42f9b3d3-98cd-459a-9695-88904f63560a",
   "metadata": {},
   "outputs": [],
   "source": []
  }
 ],
 "metadata": {
  "kernelspec": {
   "display_name": "Python [conda env:base] *",
   "language": "python",
   "name": "conda-base-py"
  },
  "language_info": {
   "codemirror_mode": {
    "name": "ipython",
    "version": 3
   },
   "file_extension": ".py",
   "mimetype": "text/x-python",
   "name": "python",
   "nbconvert_exporter": "python",
   "pygments_lexer": "ipython3",
   "version": "3.12.7"
  }
 },
 "nbformat": 4,
 "nbformat_minor": 5
}
